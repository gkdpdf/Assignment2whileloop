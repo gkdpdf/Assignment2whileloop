{
 "cells": [
  {
   "cell_type": "markdown",
   "id": "3d07ff9e-f7c0-4cb9-883b-ff1cb67bc463",
   "metadata": {},
   "source": [
    "1. While loop is used when incremental is non-standardised and for is for the standardised generally\n",
    "\n"
   ]
  },
  {
   "cell_type": "code",
   "execution_count": 18,
   "id": "bf5df346-4626-468f-a871-ffbcf7d848aa",
   "metadata": {},
   "outputs": [
    {
     "name": "stdout",
     "output_type": "stream",
     "text": [
      "55\n"
     ]
    }
   ],
   "source": [
    "##2\n",
    "##using for loop \n",
    "result=0\n",
    "for i in range(11):\n",
    "    result=result+i\n",
    "print(result)"
   ]
  },
  {
   "cell_type": "code",
   "execution_count": 22,
   "id": "389a0dab-611b-4e52-a0c5-fa0dcd05e4e5",
   "metadata": {},
   "outputs": [
    {
     "name": "stdout",
     "output_type": "stream",
     "text": [
      "55\n"
     ]
    }
   ],
   "source": [
    "##using while loop \n",
    "result=0\n",
    "i=0\n",
    "while i<=10:\n",
    "    result=result+i\n",
    "    i=i+1\n",
    "print(result)"
   ]
  },
  {
   "cell_type": "code",
   "execution_count": 28,
   "id": "a76d361a-c00b-4243-91a8-794c96096d9b",
   "metadata": {},
   "outputs": [
    {
     "name": "stdout",
     "output_type": "stream",
     "text": [
      "362880\n"
     ]
    }
   ],
   "source": [
    "##product\n",
    "##using for loop \n",
    "result=1\n",
    "for i in range(1,10):\n",
    "    result=result*i\n",
    "print(result)"
   ]
  },
  {
   "cell_type": "code",
   "execution_count": 2,
   "id": "8aa18a0c-d39f-4fdb-8834-41a489a8e3dc",
   "metadata": {},
   "outputs": [
    {
     "name": "stdout",
     "output_type": "stream",
     "text": [
      "3628800\n"
     ]
    }
   ],
   "source": [
    "##product\n",
    "##using while loop \n",
    "result=1\n",
    "i=1\n",
    "while i<=10:\n",
    "    result=result*i\n",
    "    i=i+1\n",
    "print(result)"
   ]
  },
  {
   "cell_type": "code",
   "execution_count": 13,
   "id": "55f96c49-f5b0-44fb-bd1f-881c33d7a7c9",
   "metadata": {},
   "outputs": [
    {
     "name": "stdin",
     "output_type": "stream",
     "text": [
      "Enter units 310\n"
     ]
    },
    {
     "name": "stdout",
     "output_type": "stream",
     "text": [
      "bill will be  2250.0\n"
     ]
    }
   ],
   "source": [
    "##3\n",
    "Units=int(input(\"Enter units\"))\n",
    "if Units <=100:\n",
    "    print(\"bill will be \",Units*4.5)\n",
    "elif Units>100 and Units<=200:\n",
    "    print(\"bill will be \",(100*4.5)+(Units-100)*6)\n",
    "elif Units>200 and Units<=300:\n",
    "    print(\"bill will be \",100*4.5+100*6+(Units-200)*10)\n",
    "else:\n",
    "    print(\"bill will be \",100*4.5+100*6+100*10+(Units-300)*20)"
   ]
  },
  {
   "cell_type": "code",
   "execution_count": 21,
   "id": "5dd28f02-5cea-49e5-8fb0-93f3e1936ca8",
   "metadata": {},
   "outputs": [
    {
     "name": "stdout",
     "output_type": "stream",
     "text": [
      "[2, 4, 5, 6, 8, 10, 12, 14, 15, 16, 18, 20, 22, 24, 25, 26, 28, 30, 32, 34, 35, 36, 38, 40, 42, 44, 45, 46, 48, 50, 52, 54, 55, 56, 58, 60, 62, 64, 65, 66, 68, 70, 72, 74, 75, 76, 78, 80, 82, 84, 85, 86, 88, 90, 92, 94, 95, 96, 98, 100]\n"
     ]
    }
   ],
   "source": [
    "##4\n",
    "##using for loop\n",
    "l=[]\n",
    "for i in range(1,101):\n",
    "    if (i**3)%4==0 or (i**3)%5==0:\n",
    "        l.append(i)\n",
    "print(l)\n",
    "    "
   ]
  },
  {
   "cell_type": "code",
   "execution_count": 24,
   "id": "7447d76b-e20f-4a31-b72e-c04fb7f2e9e9",
   "metadata": {},
   "outputs": [
    {
     "name": "stdout",
     "output_type": "stream",
     "text": [
      "[2, 4, 5, 6, 8, 10, 12, 14, 15, 16, 18, 20, 22, 24, 25, 26, 28, 30, 32, 34, 35, 36, 38, 40, 42, 44, 45, 46, 48, 50, 52, 54, 55, 56, 58, 60, 62, 64, 65, 66, 68, 70, 72, 74, 75, 76, 78, 80, 82, 84, 85, 86, 88, 90, 92, 94, 95, 96, 98, 100]\n"
     ]
    }
   ],
   "source": [
    "\n",
    "##using while loop\n",
    "l=[]\n",
    "i=1\n",
    "while i<=100:\n",
    "    if (i**3)%4==0 or (i**3)%5==0:\n",
    "        l.append(i)\n",
    "    i=i+1\n",
    "print(l)\n"
   ]
  },
  {
   "cell_type": "code",
   "execution_count": 30,
   "id": "22d46474-542f-4fd9-bf76-f41aea300f71",
   "metadata": {},
   "outputs": [
    {
     "name": "stdout",
     "output_type": "stream",
     "text": [
      "12\n"
     ]
    }
   ],
   "source": [
    "##5\n",
    "count=0\n",
    "s=\"I want to become a data scientist\"\n",
    "for i in s:\n",
    "    if i in ('a','e','i','o','u','A','E','I','O','U'):\n",
    "        count=count+1\n",
    "print(count)"
   ]
  },
  {
   "cell_type": "code",
   "execution_count": null,
   "id": "e3c1c274-63de-4393-bc0b-62a8452c8c80",
   "metadata": {},
   "outputs": [],
   "source": []
  }
 ],
 "metadata": {
  "kernelspec": {
   "display_name": "Python 3 (ipykernel)",
   "language": "python",
   "name": "python3"
  },
  "language_info": {
   "codemirror_mode": {
    "name": "ipython",
    "version": 3
   },
   "file_extension": ".py",
   "mimetype": "text/x-python",
   "name": "python",
   "nbconvert_exporter": "python",
   "pygments_lexer": "ipython3",
   "version": "3.10.8"
  }
 },
 "nbformat": 4,
 "nbformat_minor": 5
}
